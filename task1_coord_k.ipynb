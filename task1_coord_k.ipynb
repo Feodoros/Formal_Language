{
 "cells": [
  {
   "cell_type": "markdown",
   "metadata": {},
   "source": [
    "### Домашнее задание. Теория формальных языков и трансляций.\n",
    "#### Дано:\n",
    "Функция $K(i, j)= \\frac {(i+j-1)(i+j-2)}{2} + j$ отображает упорядоченные пары целых на целые. Найти обратные функции\n",
    "$I(k)$ и $J(k)$ с таким свойством, что $I(K(i, j)) = i$ и $J(K(i, j)) = j$.\n",
    "#### Задача: \n",
    "Составьте процедуру, которая по целому $k>0$ выдаёт $i$ и $j$ — номер строчки и столбца треугольной сетки, где расположено значение $k$. Описать процедуру, которая по целому $k>0$ выдает $i$ и $j$ – номер строчки и столбца треугольной сети, где расположено $k$."
   ]
  },
  {
   "cell_type": "markdown",
   "metadata": {},
   "source": [
    "#### Решение:"
   ]
  },
  {
   "cell_type": "markdown",
   "metadata": {},
   "source": [
    "### Первый метод: \n",
    "Если число k находится на первой строчки, то можем посчитать число $m$ – количество элементов внутри треугольника с основанием (1, j) и (i, 1), оно равно $\\sum\\limits_{i=1}^{N} {n}$, где $N$ – число столбцов, и так $m = \\frac{n(n+1)}{2}$. Запишем уравнение $n^2 + n - 2m = 0$. Если уравнение имеет целые корни, то ответ – $(1, j)$. Иначе: вычисляем m, \"спускаясь вниз\", пока  $ m_{i-1}<k<m_{i}$. Тогда $j=k - m_{i-1}$, $i = 2 + n - j$."
   ]
  },
  {
   "cell_type": "code",
   "execution_count": 2,
   "metadata": {},
   "outputs": [],
   "source": [
    "import math as m\n",
    "\n",
    "def helper(k, k_):\n",
    "    n = (round(m.sqrt(8 * k + 1)) - 1) // 2\n",
    "    if n - 2 * k + n**2 == 0:\n",
    "        if k != k_:\n",
    "            j = k_ - k\n",
    "            i = 2 + n - j\n",
    "            return(i, j)            \n",
    "        else:\n",
    "            return(1, n)\n",
    "    else:        \n",
    "        return helper(k - 1, k_)   \n",
    "        \n",
    "def coord1(k):\n",
    "    return helper(k, k)\n",
    "        "
   ]
  },
  {
   "cell_type": "markdown",
   "metadata": {},
   "source": [
    "#### Результаты: "
   ]
  },
  {
   "cell_type": "code",
   "execution_count": 4,
   "metadata": {},
   "outputs": [
    {
     "name": "stdout",
     "output_type": "stream",
     "text": [
      "(3, 2) \n",
      " (1, 3) \n",
      " (1, 1) \n",
      " (1, 4)\n"
     ]
    }
   ],
   "source": [
    "print(coord1(8),'\\n', coord1(6), '\\n', coord1(1), '\\n', coord1(10))"
   ]
  },
  {
   "cell_type": "markdown",
   "metadata": {},
   "source": [
    "### Второй метод:\n",
    "Просто диагонально заполняем таблицу с помощья формулы, вычисляющей $k$, пока не встретим в заданное число. Выдаем это число."
   ]
  },
  {
   "cell_type": "code",
   "execution_count": 5,
   "metadata": {},
   "outputs": [],
   "source": [
    "def coord2(k):\n",
    "    if k == 1:\n",
    "        return(1,1)\n",
    "    counter = 2\n",
    "    while(True):\n",
    "        i = counter + 1\n",
    "        j = 0\n",
    "        while(i != 1):\n",
    "            i -= 1\n",
    "            j += 1           \n",
    "            m = (i + j -1) * (i + j -2) / 2 + j\n",
    "            if m == k:                \n",
    "                return(i, j)\n",
    "        counter += 1\n",
    "        "
   ]
  },
  {
   "cell_type": "markdown",
   "metadata": {},
   "source": [
    "#### Результаты:"
   ]
  },
  {
   "cell_type": "code",
   "execution_count": 6,
   "metadata": {},
   "outputs": [
    {
     "name": "stdout",
     "output_type": "stream",
     "text": [
      "(3, 2) \n",
      " (1, 3) \n",
      " (1, 1) \n",
      " (1, 4)\n"
     ]
    }
   ],
   "source": [
    "print(coord2(8),'\\n', coord2(6), '\\n', coord2(1), '\\n', coord2(10))"
   ]
  },
  {
   "cell_type": "code",
   "execution_count": null,
   "metadata": {},
   "outputs": [],
   "source": []
  }
 ],
 "metadata": {
  "kernelspec": {
   "display_name": "Python 3",
   "language": "python",
   "name": "python3"
  },
  "language_info": {
   "codemirror_mode": {
    "name": "ipython",
    "version": 3
   },
   "file_extension": ".py",
   "mimetype": "text/x-python",
   "name": "python",
   "nbconvert_exporter": "python",
   "pygments_lexer": "ipython3",
   "version": "3.7.4"
  }
 },
 "nbformat": 4,
 "nbformat_minor": 2
}
