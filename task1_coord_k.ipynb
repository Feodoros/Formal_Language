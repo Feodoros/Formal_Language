{
 "cells": [
  {
   "cell_type": "markdown",
   "metadata": {},
   "source": [
    "### Домашнее задание. Теория формальных языков и трансляций.\n",
    "#### Описать процедуру, которая по целому $k>0$ выдает $i$ и $j$ – номер строчки и столбца треугольной сети, где расположено $k$."
   ]
  },
  {
   "cell_type": "markdown",
   "metadata": {},
   "source": [
    "Первый метод: Если число k находится на первой строчки, то Можем посчитать число $m$ – количество элементов внутри треугольника с основанием (1, j) и (i, 1), оно равно $\\sum\\limits_{i=1}^{n}$, где $n$ – число столбцов, и так $m = \\frac{n(n+1)}{2}$. Запишем уравнение $n^2 + n - 2m$. Если уравнение имеет целые корни, то ответ – $(1, j)$. Иначе: вычисляем m, \"спускаясь вниз\", пока  $ m_{i-1}<k<m_{i}$. Тогда $j=k - m_{i-1}$, $i = 2 + n - j$."
   ]
  },
  {
   "cell_type": "code",
   "execution_count": 1,
   "metadata": {},
   "outputs": [],
   "source": [
    "import math as m\n",
    "\n",
    "def helper(k, k_):\n",
    "    n = (round(m.sqrt(8 * k + 1)) - 1) // 2\n",
    "    if n - 2 * k + n**2 == 0:\n",
    "        if k != k_:\n",
    "            j = k_ - k\n",
    "            i = 2 + n - j\n",
    "            return(i, j)            \n",
    "        else:\n",
    "            return(1, n)\n",
    "    else:        \n",
    "        return helper(k - 1, k_)   \n",
    "        \n",
    "def coord1(k):\n",
    "    return helper(k, k)\n",
    "        "
   ]
  },
  {
   "cell_type": "markdown",
   "metadata": {},
   "source": [
    "Результаты: "
   ]
  },
  {
   "cell_type": "code",
   "execution_count": 2,
   "metadata": {},
   "outputs": [
    {
     "name": "stdout",
     "output_type": "stream",
     "text": [
      "(3, 2) \n",
      " (1, 3)\n"
     ]
    }
   ],
   "source": [
    "print(coord1(8),'\\n',coord1(6))"
   ]
  },
  {
   "cell_type": "markdown",
   "metadata": {},
   "source": [
    "Второй мметод: Просто диагонально заполняем таблицу с помощья формулы, вычисляющей $k$, пока не встретим в заданное число. Выдаем это число."
   ]
  },
  {
   "cell_type": "code",
   "execution_count": 3,
   "metadata": {},
   "outputs": [],
   "source": [
    "def coord2(k):\n",
    "    if k == 1:\n",
    "        return(1,1)\n",
    "    counter = 2\n",
    "    while(True):\n",
    "        i = counter + 1\n",
    "        j = 0\n",
    "        while(i != 1):\n",
    "            i -= 1\n",
    "            j += 1           \n",
    "            m = (i + j -1) * (i + j -2) / 2 + j\n",
    "            if m == k:                \n",
    "                return(i, j)\n",
    "        counter += 1\n",
    "        "
   ]
  },
  {
   "cell_type": "code",
   "execution_count": 4,
   "metadata": {},
   "outputs": [
    {
     "name": "stdout",
     "output_type": "stream",
     "text": [
      "(3, 2) \n",
      " (1, 3)\n"
     ]
    }
   ],
   "source": [
    "print(coord2(8),'\\n',coord2(6))"
   ]
  }
 ],
 "metadata": {
  "kernelspec": {
   "display_name": "Python 3",
   "language": "python",
   "name": "python3"
  },
  "language_info": {
   "codemirror_mode": {
    "name": "ipython",
    "version": 3
   },
   "file_extension": ".py",
   "mimetype": "text/x-python",
   "name": "python",
   "nbconvert_exporter": "python",
   "pygments_lexer": "ipython3",
   "version": "3.7.4"
  }
 },
 "nbformat": 4,
 "nbformat_minor": 2
}
