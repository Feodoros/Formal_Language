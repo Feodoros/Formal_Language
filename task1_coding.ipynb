{
 "cells": [
  {
   "cell_type": "markdown",
   "metadata": {},
   "source": [
    "## Input:"
   ]
  },
  {
   "cell_type": "code",
   "execution_count": 597,
   "metadata": {},
   "outputs": [],
   "source": [
    "expr = '''expression : ( formula )*( ',' ) . formula : \n",
    "        ( *( $opcode1 '<operation>' ) operand $operand )*( ( $opcode2 '<assignation>' ; \n",
    "        $opcode2 '<operation>' ) ) .operand : ( (  $incr1 '<increment>' $tag '<tag>' ;\n",
    "          $tag '<tag>' ( $incr2 '<increment>' ;\n",
    "                         ( $array1 '[' formula $array2 ']' )* ;\n",
    "                         $call1 '(' [ expression $call2 ]\n",
    "                                 $call3 ')' ;\n",
    "                         $ident ) ;\n",
    "          $op1 '(' expression $op2 ')' )\n",
    "               [ ( $dot '.' ; $arrow '->' ) $field '<tag>' ] ;\n",
    "    $tag '<label>' ;\n",
    "    $number '<number>' ;  $char '<char>' ; $string '<string>'\n",
    "           )*( $cond1 '?' expression $cond2 ':' ) .\n",
    "Eofgram'''"
   ]
  },
  {
   "cell_type": "markdown",
   "metadata": {},
   "source": [
    "## Parse expression:\n"
   ]
  },
  {
   "cell_type": "code",
   "execution_count": 598,
   "metadata": {},
   "outputs": [],
   "source": [
    "import string\n",
    "term = []\n",
    "not_term = []\n",
    "sem = []\n",
    "dictionary = {1: ':', 2: '(', 3: ')', 4: '.', 5: '*',\n",
    "                  6: ';', 7: ',', 8: '#', 9: '[', 10: ']'}\n",
    "def parse(text):\n",
    "    text += \" \"\n",
    "    \n",
    "    new_text = \"\"\n",
    "    i = 0\n",
    "    num_term = 0\n",
    "    while i != len(text):\n",
    "\n",
    "        t = text[i]\n",
    "        if text[i] == \" \":\n",
    "            new_text += \" \"\n",
    "            i += 1\n",
    "\n",
    "        elif text[i] == '\\n':\n",
    "            new_text += '\\n '\n",
    "            i += 1\n",
    "\n",
    "        elif text[i] in dictionary.values():\n",
    "            for k, v in dictionary.items():\n",
    "                if v == text[i]:\n",
    "                    new_text += str(k) + \" \"\n",
    "            i += 1\n",
    "\n",
    "        elif text[i] == \"'\":\n",
    "            s = \"'\"\n",
    "            i += 1\n",
    "            while text[i] != \"'\":\n",
    "                s += text[i]\n",
    "                i += 1\n",
    "            if s + \"'\" not in term:\n",
    "                term.append(s + \"'\")\n",
    "            new_text += s + \"'\" + \" \"\n",
    "            i += 1\n",
    "\n",
    "        elif text[i] in set(string.ascii_lowercase):\n",
    "            s = \"\"\n",
    "            while text[i] in set(string.ascii_lowercase + \" \"):\n",
    "                s += text[i]\n",
    "                i += 1\n",
    "            if text[i] == \":\":\n",
    "                if s not in not_term:\n",
    "                    not_term.append(s)\n",
    "                new_text += s + \" \"                \n",
    "            elif text[i] in set(string.ascii_letters):\n",
    "                while text[i] in set(string.ascii_letters + \" \"):\n",
    "                    s += text[i]\n",
    "                    i += 1\n",
    "                if text[i] == \":\":\n",
    "                    if s not in not_term:\n",
    "                        not_term.append(s)\n",
    "                    new_text += s + \" \"\n",
    "                else:\n",
    "                    new_text += \"error \"\n",
    "            else:\n",
    "                if s not in term:\n",
    "                    term.append(s)\n",
    "                new_text += s + \" \"\n",
    "\n",
    "        elif text[i] in set(string.ascii_uppercase):\n",
    "            s = \"\"\n",
    "            if text[i + 1] == \"o\":\n",
    "                while text[i] in set(string.ascii_lowercase + \"E\"):\n",
    "                    s += text[i]\n",
    "                    i += 1\n",
    "                if \"Eofgram\" in s:\n",
    "                    new_text += s\n",
    "            else:\n",
    "                while text[i] in set(string.ascii_uppercase + \" \"):\n",
    "                    s += text[i]\n",
    "                    i += 1\n",
    "                if s not in not_term:\n",
    "                    not_term.append(s)\n",
    "                new_text += s + \" \" \n",
    "\n",
    "        elif text[i] == \"$\":\n",
    "            s = \"$\"\n",
    "            i += 1\n",
    "            while text[i] in set.union(set(string.ascii_letters + \" \"), set(map(str,[i for i in range(10)]))):\n",
    "                s += text[i]\n",
    "                i += 1\n",
    "            if s not in sem:\n",
    "                sem.append(s)\n",
    "            new_text += s + \" \"\n",
    "\n",
    "    return new_text"
   ]
  },
  {
   "cell_type": "code",
   "execution_count": 599,
   "metadata": {},
   "outputs": [],
   "source": [
    "s = parse(expr)"
   ]
  },
  {
   "cell_type": "code",
   "execution_count": 600,
   "metadata": {},
   "outputs": [
    {
     "name": "stdout",
     "output_type": "stream",
     "text": [
      "expression  1  2  formula  3 5 2  ','  3  4  formula  1  \n",
      "         2  5 2  $opcode1  '<operation>'  3  operand  $operand  3 5 2  2  $opcode2  '<assignation>'  6  \n",
      "         $opcode2  '<operation>'  3  3  4 operand  1  2  2   $incr1  '<increment>'  $tag  '<tag>'  6 \n",
      "           $tag  '<tag>'  2  $incr2  '<increment>'  6 \n",
      "                          2  $array1  '['  formula  $array2  ']'  3 5  6 \n",
      "                          $call1  '('  9  expression  $call2  10 \n",
      "                                  $call3  ')'  6 \n",
      "                          $ident  3  6 \n",
      "           $op1  '('  expression  $op2  ')'  3 \n",
      "                9  2  $dot  '.'  6  $arrow  '->'  3  $field  '<tag>'  10  6 \n",
      "     $tag  '<label>'  6 \n",
      "     $number  '<number>'  6   $char  '<char>'  6  $string  '<string>' \n",
      "            3 5 2  $cond1  '?'  expression  $cond2  ':'  3  4 \n",
      " Eofgram \n"
     ]
    }
   ],
   "source": [
    "print(s)"
   ]
  },
  {
   "cell_type": "markdown",
   "metadata": {},
   "source": [
    "## Create dictionary:"
   ]
  },
  {
   "cell_type": "code",
   "execution_count": 601,
   "metadata": {},
   "outputs": [],
   "source": [
    "def add_array_to_dict(arr, dict_):\n",
    "    \n",
    "    def create_dict(arr):\n",
    "            n = len(dict_) + 1 \n",
    "            d = {}\n",
    "            for element in arr:\n",
    "                d[n] = element\n",
    "                n += 1\n",
    "            return d   \n",
    "\n",
    "    d1 = create_dict(arr)\n",
    "    dictionary.update(d1)\n",
    "\n",
    "add_array_to_dict(not_term, dictionary)\n",
    "add_array_to_dict(term, dictionary)\n",
    "add_array_to_dict(sem, dictionary)\n",
    "add_array_to_dict([\"Eofgram\"], dictionary)\n"
   ]
  },
  {
   "cell_type": "code",
   "execution_count": 602,
   "metadata": {},
   "outputs": [
    {
     "data": {
      "text/plain": [
       "{1: ':',\n",
       " 2: '(',\n",
       " 3: ')',\n",
       " 4: '.',\n",
       " 5: '*',\n",
       " 6: ';',\n",
       " 7: ',',\n",
       " 8: '#',\n",
       " 9: '[',\n",
       " 10: ']',\n",
       " 11: 'expression ',\n",
       " 12: 'formula ',\n",
       " 13: 'operand ',\n",
       " 14: 'formula ',\n",
       " 15: \"','\",\n",
       " 16: \"'<operation>'\",\n",
       " 17: 'operand ',\n",
       " 18: \"'<assignation>'\",\n",
       " 19: \"'<increment>'\",\n",
       " 20: \"'<tag>'\",\n",
       " 21: \"'['\",\n",
       " 22: \"']'\",\n",
       " 23: \"'('\",\n",
       " 24: 'expression ',\n",
       " 25: \"')'\",\n",
       " 26: \"'.'\",\n",
       " 27: \"'->'\",\n",
       " 28: \"'<label>'\",\n",
       " 29: \"'<number>'\",\n",
       " 30: \"'<char>'\",\n",
       " 31: \"'<string>'\",\n",
       " 32: \"'?'\",\n",
       " 33: \"':'\",\n",
       " 34: '$opcode1 ',\n",
       " 35: '$operand ',\n",
       " 36: '$opcode2 ',\n",
       " 37: '$incr1 ',\n",
       " 38: '$tag ',\n",
       " 39: '$incr2 ',\n",
       " 40: '$array1 ',\n",
       " 41: '$array2 ',\n",
       " 42: '$call1 ',\n",
       " 43: '$call2 ',\n",
       " 44: '$call3 ',\n",
       " 45: '$ident ',\n",
       " 46: '$op1 ',\n",
       " 47: '$op2 ',\n",
       " 48: '$dot ',\n",
       " 49: '$arrow ',\n",
       " 50: '$field ',\n",
       " 51: '$number ',\n",
       " 52: '$char ',\n",
       " 53: '$string ',\n",
       " 54: '$cond1 ',\n",
       " 55: '$cond2 ',\n",
       " 56: 'Eofgram'}"
      ]
     },
     "execution_count": 602,
     "metadata": {},
     "output_type": "execute_result"
    }
   ],
   "source": [
    "dictionary"
   ]
  },
  {
   "cell_type": "markdown",
   "metadata": {},
   "source": [
    "## Output:"
   ]
  },
  {
   "cell_type": "code",
   "execution_count": 603,
   "metadata": {},
   "outputs": [],
   "source": [
    "def replace_terms(text):\n",
    "    \n",
    "    def lambda_func(x, dict_):\n",
    "        for k, v in dict_.items():\n",
    "            if str(v).startswith(x) and x != \"\":\n",
    "                return str(k)\n",
    "        else:\n",
    "            return x\n",
    "        \n",
    "    l = list(map(lambda x: lambda_func(x, dictionary), s.split(\" \")))     \n",
    "       \n",
    "    return \" \".join(l)"
   ]
  },
  {
   "cell_type": "code",
   "execution_count": 604,
   "metadata": {},
   "outputs": [
    {
     "name": "stdout",
     "output_type": "stream",
     "text": [
      "11  1  2  12  3 5 2  15  3  4  12  1  \n",
      "         2  5 2  34  16  3  13  35  3 5 2  2  36  18  6  \n",
      "         36  16  3  3  4 13  1  2  2   37  19  38  20  6 \n",
      "           38  20  2  39  19  6 \n",
      "                          2  40  21  12  41  22  3 5  6 \n",
      "                          42  23  9  11  43  10 \n",
      "                                  44  25  6 \n",
      "                          45  3  6 \n",
      "           46  23  11  47  25  3 \n",
      "                9  2  48  26  6  49  27  3  50  20  10  6 \n",
      "     38  28  6 \n",
      "     51  29  6   52  30  6  53  31 \n",
      "            3 5 2  54  32  11  55  33  3  4 \n",
      " 56 \n"
     ]
    }
   ],
   "source": [
    "final_text = replace_terms(s)\n",
    "print(final_text)"
   ]
  },
  {
   "cell_type": "markdown",
   "metadata": {},
   "source": [
    "## Parse back:"
   ]
  },
  {
   "cell_type": "code",
   "execution_count": 605,
   "metadata": {},
   "outputs": [],
   "source": [
    "def replace_digits(text):\n",
    "\n",
    "    def lambda_func(x, dict_):\n",
    "        try:\n",
    "            if int(x) in dict_:            \n",
    "                return dict_[int(x)]\n",
    "            else:\n",
    "                return x\n",
    "        except:\n",
    "            return x\n",
    "\n",
    "    l = list(map(lambda x: lambda_func(x, dictionary), text.split(\" \")))     \n",
    "    return \" \".join(l) "
   ]
  },
  {
   "cell_type": "code",
   "execution_count": 606,
   "metadata": {},
   "outputs": [
    {
     "name": "stdout",
     "output_type": "stream",
     "text": [
      "expression   :  (  formula   ) * (  ','  )  .  formula   :  \n",
      "         (  * (  $opcode1   '<operation>'  )  operand   $operand   ) * (  (  $opcode2   '<assignation>'  ;  \n",
      "         $opcode2   '<operation>'  )  )  . operand   :  (  (   $incr1   '<increment>'  $tag   '<tag>'  ; \n",
      "           $tag   '<tag>'  (  $incr2   '<increment>'  ; \n",
      "                          (  $array1   '['  formula   $array2   ']'  ) *  ; \n",
      "                          $call1   '('  [  expression   $call2   ] \n",
      "                                  $call3   ')'  ; \n",
      "                          $ident   )  ; \n",
      "           $op1   '('  expression   $op2   ')'  ) \n",
      "                [  (  $dot   '.'  ;  $arrow   '->'  )  $field   '<tag>'  ]  ; \n",
      "     $tag   '<label>'  ; \n",
      "     $number   '<number>'  ;   $char   '<char>'  ;  $string   '<string>' \n",
      "            ) * (  $cond1   '?'  expression   $cond2   ':'  )  . \n",
      " Eofgram \n"
     ]
    }
   ],
   "source": [
    "b = replace_digits(final_text) \n",
    "print(b)"
   ]
  }
 ],
 "metadata": {
  "kernelspec": {
   "display_name": "Python 3",
   "language": "python",
   "name": "python3"
  },
  "language_info": {
   "codemirror_mode": {
    "name": "ipython",
    "version": 3
   },
   "file_extension": ".py",
   "mimetype": "text/x-python",
   "name": "python",
   "nbconvert_exporter": "python",
   "pygments_lexer": "ipython3",
   "version": "3.7.4"
  },
  "toc": {
   "base_numbering": 1,
   "nav_menu": {},
   "number_sections": true,
   "sideBar": true,
   "skip_h1_title": false,
   "title_cell": "Table of Contents",
   "title_sidebar": "Contents",
   "toc_cell": false,
   "toc_position": {
    "height": "calc(100% - 180px)",
    "left": "10px",
    "top": "150px",
    "width": "377px"
   },
   "toc_section_display": true,
   "toc_window_display": false
  }
 },
 "nbformat": 4,
 "nbformat_minor": 2
}
