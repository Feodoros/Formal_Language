{
 "cells": [
  {
   "cell_type": "markdown",
   "metadata": {},
   "source": [
    "# Задача\n",
    "Используя множества, решать следующие задачи анализа текста: \n",
    "- найти все символы, которые встречаются в двух заданных текстах; \n",
    "- определить символы, которые встречаются в первом тексте, но не встречаются во втором; \n",
    "- определить, сколько различных символов в тексте и т. п."
   ]
  },
  {
   "cell_type": "markdown",
   "metadata": {},
   "source": [
    "# Решение"
   ]
  },
  {
   "cell_type": "code",
   "execution_count": 1,
   "metadata": {},
   "outputs": [],
   "source": [
    "def all_symbols(text1, text2):\n",
    "    return set.union(set(text1), set(text2))"
   ]
  },
  {
   "cell_type": "code",
   "execution_count": 2,
   "metadata": {},
   "outputs": [],
   "source": [
    "def symbols_in_first(text1, text2):\n",
    "    return set(text1) - set(text2)"
   ]
  },
  {
   "cell_type": "code",
   "execution_count": 3,
   "metadata": {},
   "outputs": [],
   "source": [
    "def len_unique(text1):\n",
    "    return len(set(text1))"
   ]
  },
  {
   "cell_type": "markdown",
   "metadata": {},
   "source": [
    "# Тестирование"
   ]
  },
  {
   "cell_type": "code",
   "execution_count": 4,
   "metadata": {},
   "outputs": [
    {
     "name": "stdout",
     "output_type": "stream",
     "text": [
      "{'b', '3', '2', '1', ' ', '0', 'c', 'a'}\n",
      "{'b', '3', '2'}\n",
      "7\n"
     ]
    }
   ],
   "source": [
    "text1 = \"1111 2222 3333 aaabbbccc\"\n",
    "text2 = \"0 1 ac\"\n",
    "print(all_symbols(text1, text2))\n",
    "print(symbols_in_first(text1, text2))\n",
    "print(len_unique(text1))"
   ]
  }
 ],
 "metadata": {
  "kernelspec": {
   "display_name": "Python 3",
   "language": "python",
   "name": "python3"
  },
  "language_info": {
   "codemirror_mode": {
    "name": "ipython",
    "version": 3
   },
   "file_extension": ".py",
   "mimetype": "text/x-python",
   "name": "python",
   "nbconvert_exporter": "python",
   "pygments_lexer": "ipython3",
   "version": "3.7.4"
  }
 },
 "nbformat": 4,
 "nbformat_minor": 2
}
